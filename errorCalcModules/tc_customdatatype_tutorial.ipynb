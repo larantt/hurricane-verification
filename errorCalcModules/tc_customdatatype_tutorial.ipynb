{
 "cells": [
  {
   "attachments": {},
   "cell_type": "markdown",
   "metadata": {},
   "source": [
    "# How to use the TC custom dataframes\n",
    "* Lara Tobias-Tarsh (laratt@umich.edu)\n",
    "* Created: 16/03/2023\n",
    "\n",
    "This tutorial should cover how to use the custom data classes that I created for storing tropical cyclone (TC) track data from the Thorpex Grand Global Ensemble (TIGGE) and the HURDAT2 best track archive. This should dramatically simplify how information is stored in verification and also allows for some basic verification and comparison calculations to be done relatively simply.\n",
    "\n",
    "In my (lazy) opinion, this is way easier than having all the data floating around in a bunch of random functions and csv files :)."
   ]
  },
  {
   "attachments": {},
   "cell_type": "markdown",
   "metadata": {},
   "source": [
    "### Initialising a cyclone object\n",
    "\n",
    "The first step to using the TC custom dataframes is to import the track_error module. Think of this like a C++ .h file from 101, or like a python library. Once you import the module, you can use it like you would use a python library (e.g. numpy). \n",
    "\n",
    "\n",
    "You need to have the module in the same directory as the notebook you are working in to use it, so work in the errorCalcModules directory when you are doing analysis, or define a filepath to the module before you import it.\n",
    "\n",
    "\n",
    "You need all of the imports below to do this, as they are dependecies for the cyclone module itself."
   ]
  },
  {
   "cell_type": "code",
   "execution_count": 1,
   "metadata": {},
   "outputs": [],
   "source": [
    "# perform imports\n",
    "import numpy as np\n",
    "import track_error as te # the name you use to import this is arbitrary, I just used te bc it is an easy shorthand"
   ]
  },
  {
   "attachments": {},
   "cell_type": "markdown",
   "metadata": {},
   "source": [
    "Once you have your imports, you can start to initialise your Cyclone objects. This is designed to be as simple as possible. If you are interested in how this works, look at the module code. It is basically built on np.genfromtxt(), and it extracts a bunch of data and formats it in a nice way. \n",
    "\n",
    "\n",
    "The only important thing here is the way your csv files are stored in their directories. You need to have each TC's csv files stored in a seperate directory so that the string parsing can work correctly. I will probably fix this at some point so that it can be done by just storing everything in one directory, but right now I can't be bothered to write the function... (sorry ANL...)\n",
    "\n",
    "\n",
    "I have organised the files on the github repo the same way that I have organised the files on my laptop when I tested all the code (TBA...), so if you clone the repo exactly you should have 0 problems with this. If you want to do this from scratch, you want to change the directory structure, or you have other models you want to include, this is how I have my directories structured:\n",
    "\n",
    "\n",
    "```\n",
    ".../tcTracks/stormName-year/\n",
    "```\n",
    "\n",
    "All TIGGE tracks should be stored this way because the function uses the directory name to extract the name and year of the storm. I think this is a useful and organised way to store all of the data anyway, so I doubt I will change the syntax as it stops me getting lazy with file organisation while letting me be a lazy coder :)\n",
    "\n",
    "\n",
    "All you need to do to initialise a cyclone object is list all of the files in your directory. This gets passed to the init function for a cyclone object and does all of the work for you."
   ]
  },
  {
   "cell_type": "code",
   "execution_count": 2,
   "metadata": {},
   "outputs": [],
   "source": [
    "# insert cyclone parsing code here"
   ]
  },
  {
   "attachments": {},
   "cell_type": "markdown",
   "metadata": {},
   "source": [
    "### Acessing data in the object\n",
    "\n",
    "The TC object is a bunch of classes thrown together to create a 'Cyclone object' which contains all of the information for each storm. Treat it like a custom dataframe full of matricies.\n",
    "\n",
    "The nice thing about this format is you can just use dot indexing to find things and means that you don't have loads of lists that you have to index logically or numerically floating around. It is therefore WAY easier to keep track of all of the data for each system."
   ]
  },
  {
   "cell_type": "markdown",
   "metadata": {},
   "source": []
  }
 ],
 "metadata": {
  "kernelspec": {
   "display_name": "tcVerification",
   "language": "python",
   "name": "python3"
  },
  "language_info": {
   "codemirror_mode": {
    "name": "ipython",
    "version": 3
   },
   "file_extension": ".py",
   "mimetype": "text/x-python",
   "name": "python",
   "nbconvert_exporter": "python",
   "pygments_lexer": "ipython3",
   "version": "3.11.0"
  },
  "orig_nbformat": 4,
  "vscode": {
   "interpreter": {
    "hash": "87204725ff53e96471d7c683d49c35a1683b4af84a7578b6adf60afde351c601"
   }
  }
 },
 "nbformat": 4,
 "nbformat_minor": 2
}
