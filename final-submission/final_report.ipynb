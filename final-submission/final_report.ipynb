{
 "cells": [
  {
   "attachments": {},
   "cell_type": "markdown",
   "metadata": {},
   "source": [
    "## Understanding Uncertainty in Model Forecasts of Tropical Cyclones\n",
    "\n",
    "\n",
    "Authors:\n",
    "* Lara Tobias-Tarsh (laratt@umich.edu)\n",
    "* Nick Dewhirst\n",
    "* Ryan Pohlman\n",
    "* Claire Sheeren"
   ]
  },
  {
   "cell_type": "code",
   "execution_count": 7,
   "metadata": {},
   "outputs": [],
   "source": [
    "# perform imports\n",
    "import numpy as np\n",
    "import sys\n",
    "\n",
    "# ensure that the path is always set to the correct location for the track error module\n",
    "sys.path.insert(0, '/Users/laratobias-tarsh/Documents/clim323-final/errorCalcModules/')\n",
    "\n",
    "import track_error as te # the name you use to import this is arbitrary, I just used te bc it is an easy shorthand\n",
    "from pprint import pprint\n",
    "import os"
   ]
  },
  {
   "attachments": {},
   "cell_type": "markdown",
   "metadata": {},
   "source": [
    "## Motivation\n",
    "Tropical Cyclones are some of the largest and most destructive natural phenomena to occur on the planet. These warm core storms form in the tropics (30-0 degrees N & S), driven by the relatively warm sea surface temperatures adn more dominant vertical motions in dynamics. (expand)\n",
    "\n",
    "### Numerical Weather Prediction (NWP)"
   ]
  },
  {
   "attachments": {},
   "cell_type": "markdown",
   "metadata": {},
   "source": [
    "### Project Goals\n",
    "\n"
   ]
  },
  {
   "attachments": {},
   "cell_type": "markdown",
   "metadata": {},
   "source": [
    "### Data\n",
    "#### TC Best Tracks\n",
    "Best Track data is gathered from the NHC HurDat2 database (Landsea et. al, 200x), which conatins storm tracks for all Atlantic Basin TCs from 1951 to present, and is updated at the end of each season. Data is stored in a .txt file, contaning all necessary data for calculating model errors. Because the dataset is very large and some datapoints are encoded, we use the hurdat2parser.py library to save time writing a custom parser. The data quality is good, with no missing values in the data for the 2020 Atlantic Hurricane Season. Because the 2020 season was so active that greek letter storm names had to be used alongside the regular alphabetical namelist, we did encounter a limitation of this library, as it uses only the first letter of the storm name to extract data for a given storm. This was resolved by encoding the unique storm identifier codes into our parser function. \n",
    "\n",
    "#### Model Forecasts"
   ]
  },
  {
   "cell_type": "markdown",
   "metadata": {},
   "source": []
  },
  {
   "attachments": {},
   "cell_type": "markdown",
   "metadata": {},
   "source": [
    "### DATA CLASSES\n",
    "\n",
    "#### Reading in data\n",
    "Data for this study was stored in custom data classes, allowing us to perform calculations efficiently on as many storms as we wanted without requiring us to repeat various lines of code or define vast amount of functions in the main notebook that would clutter our analysis. This allows us to initialise all necessary data for a TC from just the filepath to a folder containing the csv files for the track. Given that some longer lived TCs have a large number of TIGGE track data files, this approach streamlines reading in data to a simple class constructor.\n",
    "\n",
    "For example, here we load the data for TC Laura. We call the initialiser function from the trackError module, and pass it the filepath to the TIGGE data. This function iterates through each file in the directory and calls another function which is built to extract and parse data for a specific storm. Documentation for these helper functions can be accessed either on the github at https://github.com/larantt/hurricane-verification or by calling the help() function on any of the helper functions:"
   ]
  },
  {
   "cell_type": "code",
   "execution_count": 5,
   "metadata": {},
   "outputs": [
    {
     "name": "stdout",
     "output_type": "stream",
     "text": [
      "Help on function generate_cyclone in module track_error:\n",
      "\n",
      "generate_cyclone(dirpath)\n",
      "    Function initialises a cyclone object from a list of csvs\n",
      "    \n",
      "    Iterates through a list of csv files in a directory and constructs a\n",
      "    cyclone object. Generates variables by parsing the name of the file.\n",
      "    Requires following modified TropCy naming conventions. \n",
      "    Each TC's csv files should be contained in its own directory:\n",
      "    e.g. ~/cyclones/Isaac-2006/\n",
      "    \n",
      "    Parameters\n",
      "    ----------\n",
      "        dirpath : str\n",
      "            path to directory containing cyclone csvs\n",
      "    \n",
      "    Returns\n",
      "    -------\n",
      "         : Cyclone\n",
      "            Cyclone object for storm in directory\n",
      "\n"
     ]
    }
   ],
   "source": [
    "help(te.generate_cyclone)"
   ]
  },
  {
   "attachments": {},
   "cell_type": "markdown",
   "metadata": {},
   "source": [
    "As we can see from the docstring, this function will return the data as a 'Cyclone object.' This is the 'superclass' that contains all of the data for a given storm, although it is built on a number of other classes that help maintain format standardisation between storms."
   ]
  },
  {
   "cell_type": "code",
   "execution_count": 6,
   "metadata": {},
   "outputs": [
    {
     "name": "stdout",
     "output_type": "stream",
     "text": [
      "Help on class Cyclone in module track_error:\n",
      "\n",
      "class Cyclone(builtins.object)\n",
      " |  Cyclone(name: str, year: int, ecmwf: track_error.Model, best_track: track_error.Track) -> None\n",
      " |  \n",
      " |  Main TC object containing all information wrt a TC\n",
      " |  \n",
      " |  Class contains all information that is used in tracking TCs for\n",
      " |  organisational purposes, as well as key TC information that can\n",
      " |  be used as a metric for comparison.\n",
      " |  \n",
      " |  Attributes\n",
      " |  ----------\n",
      " |      name : str \n",
      " |          NHC assigned storm name\n",
      " |      year : int\n",
      " |          Year of storm occurrence\n",
      " |      ecmwf : Model \n",
      " |          ECMWF model object\n",
      " |      gfs : Model \n",
      " |          GFS model object\n",
      " |      number : int \n",
      " |          Number of storm in season\n",
      " |      formation_date : dt.datetime\n",
      " |          Date of formation in best track\n",
      " |      best_track : List\n",
      " |          List containing best track data\n",
      " |  \n",
      " |  Methods defined here:\n",
      " |  \n",
      " |  __eq__(self, other)\n",
      " |      Return self==value.\n",
      " |  \n",
      " |  __init__(self, name: str, year: int, ecmwf: track_error.Model, best_track: track_error.Track) -> None\n",
      " |      Initialize self.  See help(type(self)) for accurate signature.\n",
      " |  \n",
      " |  __post_init__(self)\n",
      " |  \n",
      " |  __repr__(self)\n",
      " |      Return repr(self).\n",
      " |  \n",
      " |  print_summary(self)\n",
      " |      Returns a short summary of statistics for a TC\n",
      " |  \n",
      " |  track_map(self)\n",
      " |      Creates a quick track map for TC\n",
      " |  \n",
      " |  track_map_fcast_evolution(self)\n",
      " |      Creates a map showing the track forecast evolution across\n",
      " |      model runs\n",
      " |  \n",
      " |  track_map_fcast_evolution_int(self, type)\n",
      " |      Creates a map showing the track forecast evolution across\n",
      " |      model runs\n",
      " |  \n",
      " |  track_map_spec_run(self, run_num)\n",
      " |      Creates a quick track map for TC at specified run\n",
      " |  \n",
      " |  ----------------------------------------------------------------------\n",
      " |  Data descriptors defined here:\n",
      " |  \n",
      " |  __dict__\n",
      " |      dictionary for instance variables (if defined)\n",
      " |  \n",
      " |  __weakref__\n",
      " |      list of weak references to the object (if defined)\n",
      " |  \n",
      " |  ----------------------------------------------------------------------\n",
      " |  Data and other attributes defined here:\n",
      " |  \n",
      " |  __annotations__ = {'best_track': <class 'track_error.Track'>, 'dissipa...\n",
      " |  \n",
      " |  __dataclass_fields__ = {'best_track': Field(name='best_track',type=<cl...\n",
      " |  \n",
      " |  __dataclass_params__ = _DataclassParams(init=True,repr=True,eq=True,or...\n",
      " |  \n",
      " |  __hash__ = None\n",
      " |  \n",
      " |  __match_args__ = ('name', 'year', 'ecmwf', 'best_track')\n",
      "\n"
     ]
    }
   ],
   "source": [
    "help(te.Cyclone)"
   ]
  },
  {
   "attachments": {},
   "cell_type": "markdown",
   "metadata": {},
   "source": [
    "The base class of a Cyclone is a Position, which contains the raw data for a TC at a given timestep from either the TIGGE or HurDat2 database. When initialising a Cyclone, we essentially loop through all data for a TC, connect the  "
   ]
  }
 ],
 "metadata": {
  "kernelspec": {
   "display_name": "tcVerification",
   "language": "python",
   "name": "python3"
  },
  "language_info": {
   "codemirror_mode": {
    "name": "ipython",
    "version": 3
   },
   "file_extension": ".py",
   "mimetype": "text/x-python",
   "name": "python",
   "nbconvert_exporter": "python",
   "pygments_lexer": "ipython3",
   "version": "3.11.0"
  },
  "orig_nbformat": 4
 },
 "nbformat": 4,
 "nbformat_minor": 2
}
