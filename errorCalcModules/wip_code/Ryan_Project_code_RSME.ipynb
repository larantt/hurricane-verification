{
 "cells": [
  {
   "cell_type": "markdown",
   "id": "e17e7ff5",
   "metadata": {},
   "source": [
    "### Two different ways to find RMSE"
   ]
  },
  {
   "cell_type": "code",
   "execution_count": 2,
   "id": "3f7540c9",
   "metadata": {},
   "outputs": [
    {
     "data": {
      "text/plain": [
       "2.4324199198877374"
      ]
     },
     "execution_count": 2,
     "metadata": {},
     "output_type": "execute_result"
    }
   ],
   "source": [
    "#import necessary libraries\n",
    "from sklearn.metrics import mean_squared_error\n",
    "from math import sqrt\n",
    "\n",
    "\n",
    "actual= [34, 37, 44, 47, 48, 48, 46, 43, 32, 27, 26, 24]\n",
    "pred = [37, 40, 46, 44, 46, 50, 45, 44, 34, 30, 22, 23]\n",
    "\n",
    "#calculate RMSE\n",
    "sqrt(mean_squared_error(actual, pred)) \n"
   ]
  },
  {
   "cell_type": "code",
   "execution_count": null,
   "id": "a059c1c2",
   "metadata": {},
   "outputs": [],
   "source": [
    "import numpy as np\n",
    "\n",
    "def rmse(predictions, targets):\n",
    "    return np.sqrt(np.mean((predictions - targets)**2))\n"
   ]
  },
  {
   "cell_type": "markdown",
   "id": "df5c59e7",
   "metadata": {},
   "source": [
    "### Along-Track Error"
   ]
  },
  {
   "cell_type": "code",
   "execution_count": 3,
   "id": "b9972818",
   "metadata": {},
   "outputs": [
    {
     "name": "stdout",
     "output_type": "stream",
     "text": [
      "Along-track error: -0.00 meters\n"
     ]
    }
   ],
   "source": [
    "import numpy as np\n",
    "\n",
    "# Sample data (latitude and longitude in degrees)\n",
    "actual_lat = 40.71427\n",
    "actual_lon = -74.00597\n",
    "predicted_lat = 40.71522\n",
    "predicted_lon = -74.00344\n",
    "\n",
    "# Convert latitude and longitude to Cartesian coordinates (in meters)\n",
    "R = 6371000  # Earth's radius in meters\n",
    "x_actual = R * np.cos(np.radians(actual_lat)) * np.cos(np.radians(actual_lon))\n",
    "y_actual = R * np.cos(np.radians(actual_lat)) * np.sin(np.radians(actual_lon))\n",
    "z_actual = R * np.sin(np.radians(actual_lat))\n",
    "\n",
    "x_predicted = R * np.cos(np.radians(predicted_lat)) * np.cos(np.radians(predicted_lon))\n",
    "y_predicted = R * np.cos(np.radians(predicted_lat)) * np.sin(np.radians(predicted_lon))\n",
    "z_predicted = R * np.sin(np.radians(predicted_lat))\n",
    "\n",
    "# Calculate difference vector in x, y, z directions\n",
    "dx = x_actual - x_predicted\n",
    "dy = y_actual - y_predicted\n",
    "dz = z_actual - z_predicted\n",
    "\n",
    "# Calculate cross product vector\n",
    "cross_x = y_actual*dz - z_actual*dy\n",
    "cross_y = z_actual*dx - x_actual*dz\n",
    "cross_z = x_actual*dy - y_actual*dx\n",
    "\n",
    "# Normalize cross product vector\n",
    "norm = np.sqrt(cross_x**2 + cross_y**2 + cross_z**2)\n",
    "cross_x /= norm\n",
    "cross_y /= norm\n",
    "cross_z /= norm\n",
    "\n",
    "# Calculate projection of difference vector onto cross product vector\n",
    "along_track_error = dx*cross_x + dy*cross_y + dz*cross_z\n",
    "\n",
    "print(f\"Along-track error: {along_track_error:.2f} meters\")\n"
   ]
  },
  {
   "cell_type": "markdown",
   "id": "3066efba",
   "metadata": {},
   "source": [
    "### Cross-Track Error"
   ]
  },
  {
   "cell_type": "code",
   "execution_count": 4,
   "id": "6e1c0efe",
   "metadata": {},
   "outputs": [],
   "source": [
    "import math\n",
    "\n",
    "def cross_track_error(x, y, x1, y1, x2, y2):\n",
    "    # Calculate the distance from the vehicle's current position to the path\n",
    "    d = (y2-y1)*x - (x2-x1)*y + x2*y1 - y2*x1\n",
    "    d /= math.sqrt((y2-y1)**2 + (x2-x1)**2)\n",
    "    \n",
    "    # Return the absolute value of the distance as the cross-track error\n",
    "    return abs(d)\n"
   ]
  },
  {
   "cell_type": "code",
   "execution_count": null,
   "id": "4cc835eb",
   "metadata": {},
   "outputs": [],
   "source": []
  }
 ],
 "metadata": {
  "kernelspec": {
   "display_name": "tcVerification",
   "language": "python",
   "name": "python3"
  },
  "language_info": {
   "codemirror_mode": {
    "name": "ipython",
    "version": 3
   },
   "file_extension": ".py",
   "mimetype": "text/x-python",
   "name": "python",
   "nbconvert_exporter": "python",
   "pygments_lexer": "ipython3",
   "version": "3.11.0"
  },
  "vscode": {
   "interpreter": {
    "hash": "87204725ff53e96471d7c683d49c35a1683b4af84a7578b6adf60afde351c601"
   }
  }
 },
 "nbformat": 4,
 "nbformat_minor": 5
}
